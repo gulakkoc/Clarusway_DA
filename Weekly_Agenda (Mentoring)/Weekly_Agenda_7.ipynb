{
 "cells": [
  {
   "cell_type": "markdown",
   "id": "4fbf3f0f",
   "metadata": {},
   "source": [
    "### Weekly Agenda - 7 - Statistics "
   ]
  },
  {
   "cell_type": "code",
   "execution_count": 1,
   "id": "76349ecd",
   "metadata": {},
   "outputs": [],
   "source": [
    "import scipy.stats as stats\n",
    "import math as math"
   ]
  },
  {
   "cell_type": "markdown",
   "id": "7c884119",
   "metadata": {},
   "source": [
    "- 7. In how many ways, a group of 3 boys and 2 girls can be formed out of a total of 5 boys and 5 girls?"
   ]
  },
  {
   "cell_type": "code",
   "execution_count": 2,
   "id": "b5d9cf18",
   "metadata": {},
   "outputs": [
    {
     "data": {
      "text/plain": [
       "100"
      ]
     },
     "execution_count": 2,
     "metadata": {},
     "output_type": "execute_result"
    }
   ],
   "source": [
    "math.comb(5,3)*math.comb(5,2)"
   ]
  },
  {
   "cell_type": "code",
   "execution_count": null,
   "id": "7f67a6df",
   "metadata": {},
   "outputs": [],
   "source": []
  },
  {
   "cell_type": "code",
   "execution_count": null,
   "id": "fe22db52",
   "metadata": {},
   "outputs": [],
   "source": []
  },
  {
   "cell_type": "code",
   "execution_count": null,
   "id": "ef291403",
   "metadata": {},
   "outputs": [],
   "source": []
  },
  {
   "cell_type": "code",
   "execution_count": null,
   "id": "a85ca260",
   "metadata": {},
   "outputs": [],
   "source": []
  }
 ],
 "metadata": {
  "kernelspec": {
   "display_name": "Python 3",
   "language": "python",
   "name": "python3"
  },
  "language_info": {
   "codemirror_mode": {
    "name": "ipython",
    "version": 3
   },
   "file_extension": ".py",
   "mimetype": "text/x-python",
   "name": "python",
   "nbconvert_exporter": "python",
   "pygments_lexer": "ipython3",
   "version": "3.8.8"
  }
 },
 "nbformat": 4,
 "nbformat_minor": 5
}
