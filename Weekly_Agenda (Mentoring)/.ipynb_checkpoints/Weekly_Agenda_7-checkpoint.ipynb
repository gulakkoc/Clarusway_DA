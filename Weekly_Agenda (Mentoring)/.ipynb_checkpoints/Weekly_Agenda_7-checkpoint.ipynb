{
 "cells": [
  {
   "cell_type": "markdown",
   "id": "9ee9e16d",
   "metadata": {},
   "source": [
    "### Weekly Agenda - 7 - Statistics "
   ]
  },
  {
   "cell_type": "code",
   "execution_count": 1,
   "id": "fd67a0aa",
   "metadata": {},
   "outputs": [],
   "source": [
    "import scipy.stats as stats\n",
    "import math as math"
   ]
  },
  {
   "cell_type": "markdown",
   "id": "ff00ca5f",
   "metadata": {},
   "source": [
    "- 7. In how many ways, a group of 3 boys and 2 girls can be formed out of a total of 5 boys and 5 girls?"
   ]
  },
  {
   "cell_type": "code",
   "execution_count": 2,
   "id": "89fbf3d7",
   "metadata": {},
   "outputs": [
    {
     "data": {
      "text/plain": [
       "100"
      ]
     },
     "execution_count": 2,
     "metadata": {},
     "output_type": "execute_result"
    }
   ],
   "source": [
    "math.comb(5,3)*math.comb(5,2)"
   ]
  },
  {
   "cell_type": "markdown",
   "id": "ff7c9711",
   "metadata": {},
   "source": [
    "- 8.A woman has 6 blouses, 4 skirts, and 5 pairs of shoes. How many different outfits consisting of a blouse, a skirt, and a pair of shoes can she wear?\n"
   ]
  },
  {
   "cell_type": "code",
   "execution_count": 3,
   "id": "b532a7ca",
   "metadata": {},
   "outputs": [
    {
     "data": {
      "text/plain": [
       "120"
      ]
     },
     "execution_count": 3,
     "metadata": {},
     "output_type": "execute_result"
    }
   ],
   "source": [
    "(6*4*5)"
   ]
  },
  {
   "cell_type": "code",
   "execution_count": 4,
   "id": "e7fd5824",
   "metadata": {},
   "outputs": [
    {
     "data": {
      "text/plain": [
       "120"
      ]
     },
     "execution_count": 4,
     "metadata": {},
     "output_type": "execute_result"
    }
   ],
   "source": [
    "math.comb(6,1)*math.comb(4,1)*math.comb(5,1)"
   ]
  },
  {
   "cell_type": "markdown",
   "id": "bb06d4fa",
   "metadata": {},
   "source": [
    "- 9. Serena Williams won the 2010 Wimbledon Ladies’ Singles Championship. For the seven matches she played in the tournament, her total number of first serves was 379, total number of good first serves was 256, and total number of double faults was 15. \n",
    "\n",
    "--a. Find the probability that her first serve is good.\n",
    "\n",
    "--b. Find the conditional probability of double faulting, given that her first serve resulted in a fault.\n",
    "\n",
    "--c. On what percentage of her service points does she double fault?"
   ]
  },
  {
   "cell_type": "code",
   "execution_count": null,
   "id": "df179df4",
   "metadata": {},
   "outputs": [],
   "source": [
    "P(F) = Probability of First Serve \n",
    "P(D) = Probability of Double Fault"
   ]
  },
  {
   "cell_type": "code",
   "execution_count": 12,
   "id": "8837cea8",
   "metadata": {},
   "outputs": [
    {
     "data": {
      "text/plain": [
       "0.68"
      ]
     },
     "execution_count": 12,
     "metadata": {},
     "output_type": "execute_result"
    }
   ],
   "source": [
    "#a.\n",
    "\n",
    "#Good first serve/Total first serve :\n",
    "\n",
    "round((256/379),2)"
   ]
  },
  {
   "cell_type": "code",
   "execution_count": 14,
   "id": "aa2c138d",
   "metadata": {},
   "outputs": [
    {
     "data": {
      "text/plain": [
       "0.12"
      ]
     },
     "execution_count": 14,
     "metadata": {},
     "output_type": "execute_result"
    }
   ],
   "source": [
    "#b. \n",
    "\n",
    "#P(D) = ?\n",
    "\n",
    "#P(D|F) = P(D) / (1- P(F))\n",
    "\n",
    "round((15/379) / (1 - (256/379)),2)"
   ]
  },
  {
   "cell_type": "code",
   "execution_count": 19,
   "id": "610a8edb",
   "metadata": {},
   "outputs": [
    {
     "name": "stdout",
     "output_type": "stream",
     "text": [
      "% 0.04\n"
     ]
    }
   ],
   "source": [
    "#c.\n",
    "\n",
    "print(\"%\",(round((15/376),3)))"
   ]
  },
  {
   "cell_type": "code",
   "execution_count": null,
   "id": "6784a2bd",
   "metadata": {},
   "outputs": [],
   "source": []
  },
  {
   "cell_type": "code",
   "execution_count": null,
   "id": "ea3315c2",
   "metadata": {},
   "outputs": [],
   "source": []
  },
  {
   "cell_type": "code",
   "execution_count": null,
   "id": "20f1cb7f",
   "metadata": {},
   "outputs": [],
   "source": []
  }
 ],
 "metadata": {
  "kernelspec": {
   "display_name": "Python 3",
   "language": "python",
   "name": "python3"
  },
  "language_info": {
   "codemirror_mode": {
    "name": "ipython",
    "version": 3
   },
   "file_extension": ".py",
   "mimetype": "text/x-python",
   "name": "python",
   "nbconvert_exporter": "python",
   "pygments_lexer": "ipython3",
   "version": "3.8.8"
  }
 },
 "nbformat": 4,
 "nbformat_minor": 5
}
