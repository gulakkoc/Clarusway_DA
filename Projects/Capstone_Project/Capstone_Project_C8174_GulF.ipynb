{
 "cells": [
  {
   "cell_type": "markdown",
   "id": "27008ac8",
   "metadata": {},
   "source": [
    "# Capstone Project"
   ]
  },
  {
   "cell_type": "markdown",
   "id": "e4bab03a",
   "metadata": {},
   "source": [
    "## EDA for Car Price Prediction Model"
   ]
  },
  {
   "cell_type": "markdown",
   "id": "cffa4997",
   "metadata": {},
   "source": [
    ">In this project we are going to be cleaning and analyzing a file for a car price prediction model."
   ]
  },
  {
   "cell_type": "markdown",
   "id": "33763b3b",
   "metadata": {},
   "source": [
    "- Before start analyzing first let's import the libraries we might use for further steps."
   ]
  },
  {
   "cell_type": "code",
   "execution_count": 15,
   "id": "61d01aff",
   "metadata": {},
   "outputs": [],
   "source": [
    "import numpy as np\n",
    "import pandas as pd\n",
    "import seaborn as sns\n",
    "import matplotlib as plt"
   ]
  },
  {
   "cell_type": "markdown",
   "id": "47c44b0b",
   "metadata": {},
   "source": [
    "- - - "
   ]
  },
  {
   "cell_type": "markdown",
   "id": "d64d3c87",
   "metadata": {},
   "source": [
    "<img src=\"readme.png\" style=\"height:1000px\">"
   ]
  },
  {
   "cell_type": "markdown",
   "id": "6e484979",
   "metadata": {},
   "source": [
    "<br>"
   ]
  },
  {
   "cell_type": "markdown",
   "id": "95797b2d",
   "metadata": {},
   "source": [
    "- Right after importing the libraries, I am going to read the json file that I am going to be working on."
   ]
  },
  {
   "cell_type": "markdown",
   "id": "0cce777a",
   "metadata": {},
   "source": [
    "<br>"
   ]
  },
  {
   "cell_type": "code",
   "execution_count": 25,
   "id": "2782b6c8",
   "metadata": {},
   "outputs": [],
   "source": [
    "df = pd.read_json(\"scout_car.json\", lines=True)"
   ]
  },
  {
   "cell_type": "markdown",
   "id": "10e6edc4",
   "metadata": {},
   "source": [
    "<br>"
   ]
  },
  {
   "cell_type": "markdown",
   "id": "a1849c31",
   "metadata": {},
   "source": [
    "- To get an idea of what the data looks like, let's have a look at that by getting some random samples."
   ]
  },
  {
   "cell_type": "markdown",
   "id": "43445b25",
   "metadata": {},
   "source": [
    "<br>"
   ]
  },
  {
   "cell_type": "code",
   "execution_count": 26,
   "id": "5bd850d5",
   "metadata": {},
   "outputs": [
    {
     "data": {
      "text/html": [
       "<div>\n",
       "<style scoped>\n",
       "    .dataframe tbody tr th:only-of-type {\n",
       "        vertical-align: middle;\n",
       "    }\n",
       "\n",
       "    .dataframe tbody tr th {\n",
       "        vertical-align: top;\n",
       "    }\n",
       "\n",
       "    .dataframe thead th {\n",
       "        text-align: right;\n",
       "    }\n",
       "</style>\n",
       "<table border=\"1\" class=\"dataframe\">\n",
       "  <thead>\n",
       "    <tr style=\"text-align: right;\">\n",
       "      <th></th>\n",
       "      <th>url</th>\n",
       "      <th>make_model</th>\n",
       "      <th>short_description</th>\n",
       "      <th>body_type</th>\n",
       "      <th>price</th>\n",
       "      <th>vat</th>\n",
       "      <th>km</th>\n",
       "      <th>registration</th>\n",
       "      <th>prev_owner</th>\n",
       "      <th>kW</th>\n",
       "      <th>...</th>\n",
       "      <th>description</th>\n",
       "      <th>Emission Label</th>\n",
       "      <th>Gears</th>\n",
       "      <th>Country version</th>\n",
       "      <th>Electricity consumption</th>\n",
       "      <th>Last Service Date</th>\n",
       "      <th>Other Fuel Types</th>\n",
       "      <th>Availability</th>\n",
       "      <th>Last Timing Belt Service Date</th>\n",
       "      <th>Available from</th>\n",
       "    </tr>\n",
       "  </thead>\n",
       "  <tbody>\n",
       "    <tr>\n",
       "      <th>12183</th>\n",
       "      <td>https://www.autoscout24.com//offers/opel-insig...</td>\n",
       "      <td>Opel Insignia</td>\n",
       "      <td>ST INNOVATION, AHK, Navi, LED, SHZ</td>\n",
       "      <td>Station wagon</td>\n",
       "      <td>21350</td>\n",
       "      <td>VAT deductible</td>\n",
       "      <td>27,000 km</td>\n",
       "      <td>06/2018</td>\n",
       "      <td>1 previous owner</td>\n",
       "      <td>NaN</td>\n",
       "      <td>...</td>\n",
       "      <td>[\\n, Sonderausstattung:, Anhängerzugvorrichtun...</td>\n",
       "      <td>NaN</td>\n",
       "      <td>NaN</td>\n",
       "      <td>[\\nGermany\\n]</td>\n",
       "      <td>NaN</td>\n",
       "      <td>NaN</td>\n",
       "      <td>NaN</td>\n",
       "      <td>NaN</td>\n",
       "      <td>NaN</td>\n",
       "      <td>NaN</td>\n",
       "    </tr>\n",
       "    <tr>\n",
       "      <th>12010</th>\n",
       "      <td>https://www.autoscout24.com//offers/opel-insig...</td>\n",
       "      <td>Opel Insignia</td>\n",
       "      <td>Sports Tourer INNOVATION</td>\n",
       "      <td>Station wagon</td>\n",
       "      <td>22900</td>\n",
       "      <td>VAT deductible</td>\n",
       "      <td>20,450 km</td>\n",
       "      <td>01/2018</td>\n",
       "      <td>1 previous owner</td>\n",
       "      <td>NaN</td>\n",
       "      <td>...</td>\n",
       "      <td>[\\n, Ausstattung:, Ergonomiesitz vorn AGR-Sitz...</td>\n",
       "      <td>NaN</td>\n",
       "      <td>NaN</td>\n",
       "      <td>[\\nGermany\\n]</td>\n",
       "      <td>NaN</td>\n",
       "      <td>NaN</td>\n",
       "      <td>NaN</td>\n",
       "      <td>NaN</td>\n",
       "      <td>NaN</td>\n",
       "      <td>NaN</td>\n",
       "    </tr>\n",
       "    <tr>\n",
       "      <th>13216</th>\n",
       "      <td>https://www.autoscout24.com//offers/renault-cl...</td>\n",
       "      <td>Renault Clio</td>\n",
       "      <td>TCe 120 Energy EDC Intens</td>\n",
       "      <td>Sedans</td>\n",
       "      <td>14900</td>\n",
       "      <td>None</td>\n",
       "      <td>36,500 km</td>\n",
       "      <td>03/2017</td>\n",
       "      <td>1 previous owner</td>\n",
       "      <td>NaN</td>\n",
       "      <td>...</td>\n",
       "      <td>[\\n14900€, Renault Clio 4 TCe 120 EDC Essence,...</td>\n",
       "      <td>NaN</td>\n",
       "      <td>[\\n6\\n]</td>\n",
       "      <td>NaN</td>\n",
       "      <td>NaN</td>\n",
       "      <td>NaN</td>\n",
       "      <td>NaN</td>\n",
       "      <td>NaN</td>\n",
       "      <td>NaN</td>\n",
       "      <td>NaN</td>\n",
       "    </tr>\n",
       "    <tr>\n",
       "      <th>3174</th>\n",
       "      <td>https://www.autoscout24.com//offers/audi-a3-sp...</td>\n",
       "      <td>Audi A3</td>\n",
       "      <td>Sportback 1.6TDI Attrac EU6 Climatr Sitzh</td>\n",
       "      <td>Sedans</td>\n",
       "      <td>14440</td>\n",
       "      <td>VAT deductible</td>\n",
       "      <td>86,100 km</td>\n",
       "      <td>04/2016</td>\n",
       "      <td>1 previous owner</td>\n",
       "      <td>NaN</td>\n",
       "      <td>...</td>\n",
       "      <td>[\\n, Technik &amp; Sicherheit:, 6-Gang-Schaltgetri...</td>\n",
       "      <td>NaN</td>\n",
       "      <td>[\\n6\\n]</td>\n",
       "      <td>[\\nGermany\\n]</td>\n",
       "      <td>NaN</td>\n",
       "      <td>NaN</td>\n",
       "      <td>NaN</td>\n",
       "      <td>NaN</td>\n",
       "      <td>NaN</td>\n",
       "      <td>NaN</td>\n",
       "    </tr>\n",
       "    <tr>\n",
       "      <th>5094</th>\n",
       "      <td>https://www.autoscout24.com//offers/audi-a3-sp...</td>\n",
       "      <td>Audi A3</td>\n",
       "      <td>Sportback 30 TDI S tronic Admired</td>\n",
       "      <td>Sedans</td>\n",
       "      <td>26998</td>\n",
       "      <td>VAT deductible</td>\n",
       "      <td>1 km</td>\n",
       "      <td>05/2019</td>\n",
       "      <td>1 previous owner</td>\n",
       "      <td>NaN</td>\n",
       "      <td>...</td>\n",
       "      <td>[\\nVantaggio 25%, EQU: EXTENDED WARRANTY +2ANN...</td>\n",
       "      <td>NaN</td>\n",
       "      <td>[\\n7\\n]</td>\n",
       "      <td>[\\nItaly\\n]</td>\n",
       "      <td>NaN</td>\n",
       "      <td>NaN</td>\n",
       "      <td>NaN</td>\n",
       "      <td>NaN</td>\n",
       "      <td>NaN</td>\n",
       "      <td>NaN</td>\n",
       "    </tr>\n",
       "    <tr>\n",
       "      <th>7776</th>\n",
       "      <td>https://www.autoscout24.com//offers/opel-astra...</td>\n",
       "      <td>Opel Astra</td>\n",
       "      <td>ST 1.6D Automatik Edition IntelliLink</td>\n",
       "      <td>Station wagon</td>\n",
       "      <td>24645</td>\n",
       "      <td>VAT deductible</td>\n",
       "      <td>2,500 km</td>\n",
       "      <td>05/2019</td>\n",
       "      <td>None</td>\n",
       "      <td>NaN</td>\n",
       "      <td>...</td>\n",
       "      <td>[\\nRadio R 4.0 IntelliLink 7\"\" Touchscreen, Pa...</td>\n",
       "      <td>NaN</td>\n",
       "      <td>[\\n6\\n]</td>\n",
       "      <td>[\\nGermany\\n]</td>\n",
       "      <td>NaN</td>\n",
       "      <td>NaN</td>\n",
       "      <td>NaN</td>\n",
       "      <td>NaN</td>\n",
       "      <td>NaN</td>\n",
       "      <td>NaN</td>\n",
       "    </tr>\n",
       "    <tr>\n",
       "      <th>13315</th>\n",
       "      <td>https://www.autoscout24.com//offers/renault-cl...</td>\n",
       "      <td>Renault Clio</td>\n",
       "      <td>Limited IV \"Automatik\"</td>\n",
       "      <td>Compact</td>\n",
       "      <td>11990</td>\n",
       "      <td>None</td>\n",
       "      <td>19,100 km</td>\n",
       "      <td>11/2016</td>\n",
       "      <td>1 previous owner</td>\n",
       "      <td>NaN</td>\n",
       "      <td>...</td>\n",
       "      <td>[\\nDas Fahrzeug befindet sich an unserem Stand...</td>\n",
       "      <td>[\\n4 (Green)\\n]</td>\n",
       "      <td>[\\n6\\n]</td>\n",
       "      <td>[\\nGermany\\n]</td>\n",
       "      <td>NaN</td>\n",
       "      <td>NaN</td>\n",
       "      <td>[[], [], []]</td>\n",
       "      <td>NaN</td>\n",
       "      <td>NaN</td>\n",
       "      <td>NaN</td>\n",
       "    </tr>\n",
       "    <tr>\n",
       "      <th>7452</th>\n",
       "      <td>https://www.autoscout24.com//offers/opel-astra...</td>\n",
       "      <td>Opel Astra</td>\n",
       "      <td>1.4 Turbo S/S 92kW (125CV) Dynamic</td>\n",
       "      <td>Other</td>\n",
       "      <td>14700</td>\n",
       "      <td>None</td>\n",
       "      <td>20,090 km</td>\n",
       "      <td>01/2018</td>\n",
       "      <td>1 previous owner</td>\n",
       "      <td>NaN</td>\n",
       "      <td>...</td>\n",
       "      <td>[]</td>\n",
       "      <td>NaN</td>\n",
       "      <td>[\\n6\\n]</td>\n",
       "      <td>NaN</td>\n",
       "      <td>NaN</td>\n",
       "      <td>NaN</td>\n",
       "      <td>NaN</td>\n",
       "      <td>NaN</td>\n",
       "      <td>NaN</td>\n",
       "      <td>NaN</td>\n",
       "    </tr>\n",
       "    <tr>\n",
       "      <th>15742</th>\n",
       "      <td>https://www.autoscout24.com//offers/renault-es...</td>\n",
       "      <td>Renault Espace</td>\n",
       "      <td>Energy dCi 160 EDC Elysée 7-SITZER KLIMA</td>\n",
       "      <td>Van</td>\n",
       "      <td>34990</td>\n",
       "      <td>VAT deductible</td>\n",
       "      <td>18,000 km</td>\n",
       "      <td>11/2018</td>\n",
       "      <td>1 previous owner</td>\n",
       "      <td>NaN</td>\n",
       "      <td>...</td>\n",
       "      <td>[\\nJAHRESWAGEN, JUNGE GEBRAUCHTE, TAGESZULASSU...</td>\n",
       "      <td>NaN</td>\n",
       "      <td>[\\n6\\n]</td>\n",
       "      <td>[\\nGermany\\n]</td>\n",
       "      <td>NaN</td>\n",
       "      <td>NaN</td>\n",
       "      <td>NaN</td>\n",
       "      <td>NaN</td>\n",
       "      <td>NaN</td>\n",
       "      <td>NaN</td>\n",
       "    </tr>\n",
       "    <tr>\n",
       "      <th>11132</th>\n",
       "      <td>https://www.autoscout24.com//offers/opel-insig...</td>\n",
       "      <td>Opel Insignia</td>\n",
       "      <td>1.6 CDTI Sports Tourer Start/Stop Edition</td>\n",
       "      <td>Station wagon</td>\n",
       "      <td>11800</td>\n",
       "      <td>None</td>\n",
       "      <td>130,000 km</td>\n",
       "      <td>03/2016</td>\n",
       "      <td>2 previous owners</td>\n",
       "      <td>NaN</td>\n",
       "      <td>...</td>\n",
       "      <td>[\\nABS, Bluetooth, Bordcomputer, Dachreling, E...</td>\n",
       "      <td>NaN</td>\n",
       "      <td>[\\n6\\n]</td>\n",
       "      <td>NaN</td>\n",
       "      <td>NaN</td>\n",
       "      <td>NaN</td>\n",
       "      <td>NaN</td>\n",
       "      <td>NaN</td>\n",
       "      <td>NaN</td>\n",
       "      <td>NaN</td>\n",
       "    </tr>\n",
       "  </tbody>\n",
       "</table>\n",
       "<p>10 rows × 54 columns</p>\n",
       "</div>"
      ],
      "text/plain": [
       "                                                     url      make_model  \\\n",
       "12183  https://www.autoscout24.com//offers/opel-insig...   Opel Insignia   \n",
       "12010  https://www.autoscout24.com//offers/opel-insig...   Opel Insignia   \n",
       "13216  https://www.autoscout24.com//offers/renault-cl...    Renault Clio   \n",
       "3174   https://www.autoscout24.com//offers/audi-a3-sp...         Audi A3   \n",
       "5094   https://www.autoscout24.com//offers/audi-a3-sp...         Audi A3   \n",
       "7776   https://www.autoscout24.com//offers/opel-astra...      Opel Astra   \n",
       "13315  https://www.autoscout24.com//offers/renault-cl...    Renault Clio   \n",
       "7452   https://www.autoscout24.com//offers/opel-astra...      Opel Astra   \n",
       "15742  https://www.autoscout24.com//offers/renault-es...  Renault Espace   \n",
       "11132  https://www.autoscout24.com//offers/opel-insig...   Opel Insignia   \n",
       "\n",
       "                               short_description      body_type  price  \\\n",
       "12183         ST INNOVATION, AHK, Navi, LED, SHZ  Station wagon  21350   \n",
       "12010                   Sports Tourer INNOVATION  Station wagon  22900   \n",
       "13216                  TCe 120 Energy EDC Intens         Sedans  14900   \n",
       "3174   Sportback 1.6TDI Attrac EU6 Climatr Sitzh         Sedans  14440   \n",
       "5094           Sportback 30 TDI S tronic Admired         Sedans  26998   \n",
       "7776       ST 1.6D Automatik Edition IntelliLink  Station wagon  24645   \n",
       "13315                     Limited IV \"Automatik\"        Compact  11990   \n",
       "7452          1.4 Turbo S/S 92kW (125CV) Dynamic          Other  14700   \n",
       "15742   Energy dCi 160 EDC Elysée 7-SITZER KLIMA            Van  34990   \n",
       "11132  1.6 CDTI Sports Tourer Start/Stop Edition  Station wagon  11800   \n",
       "\n",
       "                  vat          km registration         prev_owner  kW  ...  \\\n",
       "12183  VAT deductible   27,000 km      06/2018   1 previous owner NaN  ...   \n",
       "12010  VAT deductible   20,450 km      01/2018   1 previous owner NaN  ...   \n",
       "13216            None   36,500 km      03/2017   1 previous owner NaN  ...   \n",
       "3174   VAT deductible   86,100 km      04/2016   1 previous owner NaN  ...   \n",
       "5094   VAT deductible        1 km      05/2019   1 previous owner NaN  ...   \n",
       "7776   VAT deductible    2,500 km      05/2019               None NaN  ...   \n",
       "13315            None   19,100 km      11/2016   1 previous owner NaN  ...   \n",
       "7452             None   20,090 km      01/2018   1 previous owner NaN  ...   \n",
       "15742  VAT deductible   18,000 km      11/2018   1 previous owner NaN  ...   \n",
       "11132            None  130,000 km      03/2016  2 previous owners NaN  ...   \n",
       "\n",
       "                                             description   Emission Label  \\\n",
       "12183  [\\n, Sonderausstattung:, Anhängerzugvorrichtun...              NaN   \n",
       "12010  [\\n, Ausstattung:, Ergonomiesitz vorn AGR-Sitz...              NaN   \n",
       "13216  [\\n14900€, Renault Clio 4 TCe 120 EDC Essence,...              NaN   \n",
       "3174   [\\n, Technik & Sicherheit:, 6-Gang-Schaltgetri...              NaN   \n",
       "5094   [\\nVantaggio 25%, EQU: EXTENDED WARRANTY +2ANN...              NaN   \n",
       "7776   [\\nRadio R 4.0 IntelliLink 7\"\" Touchscreen, Pa...              NaN   \n",
       "13315  [\\nDas Fahrzeug befindet sich an unserem Stand...  [\\n4 (Green)\\n]   \n",
       "7452                                                  []              NaN   \n",
       "15742  [\\nJAHRESWAGEN, JUNGE GEBRAUCHTE, TAGESZULASSU...              NaN   \n",
       "11132  [\\nABS, Bluetooth, Bordcomputer, Dachreling, E...              NaN   \n",
       "\n",
       "         Gears Country version Electricity consumption Last Service Date  \\\n",
       "12183      NaN   [\\nGermany\\n]                     NaN               NaN   \n",
       "12010      NaN   [\\nGermany\\n]                     NaN               NaN   \n",
       "13216  [\\n6\\n]             NaN                     NaN               NaN   \n",
       "3174   [\\n6\\n]   [\\nGermany\\n]                     NaN               NaN   \n",
       "5094   [\\n7\\n]     [\\nItaly\\n]                     NaN               NaN   \n",
       "7776   [\\n6\\n]   [\\nGermany\\n]                     NaN               NaN   \n",
       "13315  [\\n6\\n]   [\\nGermany\\n]                     NaN               NaN   \n",
       "7452   [\\n6\\n]             NaN                     NaN               NaN   \n",
       "15742  [\\n6\\n]   [\\nGermany\\n]                     NaN               NaN   \n",
       "11132  [\\n6\\n]             NaN                     NaN               NaN   \n",
       "\n",
       "      Other Fuel Types Availability Last Timing Belt Service Date  \\\n",
       "12183              NaN          NaN                           NaN   \n",
       "12010              NaN          NaN                           NaN   \n",
       "13216              NaN          NaN                           NaN   \n",
       "3174               NaN          NaN                           NaN   \n",
       "5094               NaN          NaN                           NaN   \n",
       "7776               NaN          NaN                           NaN   \n",
       "13315     [[], [], []]          NaN                           NaN   \n",
       "7452               NaN          NaN                           NaN   \n",
       "15742              NaN          NaN                           NaN   \n",
       "11132              NaN          NaN                           NaN   \n",
       "\n",
       "      Available from  \n",
       "12183            NaN  \n",
       "12010            NaN  \n",
       "13216            NaN  \n",
       "3174             NaN  \n",
       "5094             NaN  \n",
       "7776             NaN  \n",
       "13315            NaN  \n",
       "7452             NaN  \n",
       "15742            NaN  \n",
       "11132            NaN  \n",
       "\n",
       "[10 rows x 54 columns]"
      ]
     },
     "execution_count": 26,
     "metadata": {},
     "output_type": "execute_result"
    }
   ],
   "source": [
    "df.sample(10) "
   ]
  },
  {
   "cell_type": "code",
   "execution_count": 31,
   "id": "f5bdea48",
   "metadata": {},
   "outputs": [
    {
     "name": "stdout",
     "output_type": "stream",
     "text": [
      "<class 'pandas.core.frame.DataFrame'>\n",
      "RangeIndex: 15919 entries, 0 to 15918\n",
      "Data columns (total 54 columns):\n",
      " #   Column                         Non-Null Count  Dtype  \n",
      "---  ------                         --------------  -----  \n",
      " 0   url                            15919 non-null  object \n",
      " 1   make_model                     15919 non-null  object \n",
      " 2   short_description              15873 non-null  object \n",
      " 3   body_type                      15859 non-null  object \n",
      " 4   price                          15919 non-null  int64  \n",
      " 5   vat                            11406 non-null  object \n",
      " 6   km                             15919 non-null  object \n",
      " 7   registration                   15919 non-null  object \n",
      " 8   prev_owner                     9091 non-null   object \n",
      " 9   kW                             0 non-null      float64\n",
      " 10  hp                             15919 non-null  object \n",
      " 11  Type                           15917 non-null  object \n",
      " 12  Previous Owners                9279 non-null   object \n",
      " 13  Next Inspection                3535 non-null   object \n",
      " 14  Inspection new                 3932 non-null   object \n",
      " 15  Warranty                       10499 non-null  object \n",
      " 16  Full Service                   8215 non-null   object \n",
      " 17  Non-smoking Vehicle            7177 non-null   object \n",
      " 18  null                           15919 non-null  object \n",
      " 19  Make                           15919 non-null  object \n",
      " 20  Model                          15919 non-null  object \n",
      " 21  Offer Number                   12744 non-null  object \n",
      " 22  First Registration             14322 non-null  object \n",
      " 23  Body Color                     15322 non-null  object \n",
      " 24  Paint Type                     10147 non-null  object \n",
      " 25  Body Color Original            12160 non-null  object \n",
      " 26  Upholstery                     12199 non-null  object \n",
      " 27  Body                           15859 non-null  object \n",
      " 28  Nr. of Doors                   15707 non-null  object \n",
      " 29  Nr. of Seats                   14942 non-null  object \n",
      " 30  Model Code                     4978 non-null   object \n",
      " 31  Gearing Type                   15919 non-null  object \n",
      " 32  Displacement                   15423 non-null  object \n",
      " 33  Cylinders                      10239 non-null  object \n",
      " 34  Weight                         8945 non-null   object \n",
      " 35  Drive chain                    9061 non-null   object \n",
      " 36  Fuel                           15919 non-null  object \n",
      " 37  Consumption                    14013 non-null  object \n",
      " 38  CO2 Emission                   14111 non-null  object \n",
      " 39  Emission Class                 12898 non-null  object \n",
      " 40  \n",
      "Comfort & Convenience\n",
      "        14999 non-null  object \n",
      " 41  \n",
      "Entertainment & Media\n",
      "        14545 non-null  object \n",
      " 42  \n",
      "Extras\n",
      "                       12957 non-null  object \n",
      " 43  \n",
      "Safety & Security\n",
      "            14937 non-null  object \n",
      " 44  description                    15919 non-null  object \n",
      " 45  Emission Label                 3985 non-null   object \n",
      " 46  Gears                          11207 non-null  object \n",
      " 47  Country version                7586 non-null   object \n",
      " 48  Electricity consumption        137 non-null    object \n",
      " 49  Last Service Date              566 non-null    object \n",
      " 50  Other Fuel Types               880 non-null    object \n",
      " 51  Availability                   635 non-null    object \n",
      " 52  Last Timing Belt Service Date  16 non-null     object \n",
      " 53  Available from                 272 non-null    object \n",
      "dtypes: float64(1), int64(1), object(52)\n",
      "memory usage: 6.6+ MB\n"
     ]
    }
   ],
   "source": [
    "df.info()"
   ]
  },
  {
   "cell_type": "code",
   "execution_count": 32,
   "id": "29ed2bbb",
   "metadata": {},
   "outputs": [
    {
     "data": {
      "text/plain": [
       "array(['Audi A1', 'Audi A2', 'Audi A3', 'Opel Astra', 'Opel Corsa',\n",
       "       'Opel Insignia', 'Renault Clio', 'Renault Duster',\n",
       "       'Renault Espace'], dtype=object)"
      ]
     },
     "execution_count": 32,
     "metadata": {},
     "output_type": "execute_result"
    }
   ],
   "source": [
    "df.make_model.unique()"
   ]
  },
  {
   "cell_type": "code",
   "execution_count": 38,
   "id": "a0befca1",
   "metadata": {},
   "outputs": [
    {
     "data": {
      "text/plain": [
       "count                                 15873\n",
       "unique                                10001\n",
       "top       SPB 1.6 TDI 116 CV S tronic Sport\n",
       "freq                                     64\n",
       "Name: short_description, dtype: object"
      ]
     },
     "execution_count": 38,
     "metadata": {},
     "output_type": "execute_result"
    }
   ],
   "source": [
    "df.short_description.describe()"
   ]
  },
  {
   "cell_type": "code",
   "execution_count": 39,
   "id": "ba781c24",
   "metadata": {},
   "outputs": [
    {
     "data": {
      "text/plain": [
       "count              11406\n",
       "unique                 2\n",
       "top       VAT deductible\n",
       "freq               10980\n",
       "Name: vat, dtype: object"
      ]
     },
     "execution_count": 39,
     "metadata": {},
     "output_type": "execute_result"
    }
   ],
   "source": [
    "df.vat.describe()"
   ]
  },
  {
   "cell_type": "code",
   "execution_count": 40,
   "id": "91e2686d",
   "metadata": {},
   "outputs": [
    {
     "data": {
      "text/plain": [
       "array(['VAT deductible', 'Price negotiable', None], dtype=object)"
      ]
     },
     "execution_count": 40,
     "metadata": {},
     "output_type": "execute_result"
    }
   ],
   "source": [
    "df.vat.unique()"
   ]
  },
  {
   "cell_type": "code",
   "execution_count": null,
   "id": "f95d40ac",
   "metadata": {},
   "outputs": [],
   "source": []
  },
  {
   "cell_type": "markdown",
   "id": "16c0b5c2",
   "metadata": {},
   "source": [
    "<br>"
   ]
  },
  {
   "cell_type": "markdown",
   "id": "6c8f6cc2",
   "metadata": {},
   "source": [
    "- Here that we have got some random rows. I have to admit that I did not fall in love at first sight since it is such a messy data. :)\n",
    "- As you can see, there are so mays things that we need to do !\n",
    "- Just to make sure that we do not miss anything, I am going to make a list about things that I need to work on.\n"
   ]
  },
  {
   "cell_type": "markdown",
   "id": "6961ab58",
   "metadata": {},
   "source": [
    "<br>"
   ]
  },
  {
   "cell_type": "markdown",
   "id": "d55df3e0",
   "metadata": {},
   "source": [
    "1. Change registiration column name as registration_date and also the data type to date.\n",
    "2. "
   ]
  },
  {
   "cell_type": "code",
   "execution_count": null,
   "id": "25cc62b9",
   "metadata": {},
   "outputs": [],
   "source": []
  },
  {
   "cell_type": "code",
   "execution_count": null,
   "id": "612eb177",
   "metadata": {},
   "outputs": [],
   "source": []
  },
  {
   "cell_type": "code",
   "execution_count": null,
   "id": "5fcaaa0a",
   "metadata": {},
   "outputs": [],
   "source": []
  }
 ],
 "metadata": {
  "kernelspec": {
   "display_name": "Python 3",
   "language": "python",
   "name": "python3"
  },
  "language_info": {
   "codemirror_mode": {
    "name": "ipython",
    "version": 3
   },
   "file_extension": ".py",
   "mimetype": "text/x-python",
   "name": "python",
   "nbconvert_exporter": "python",
   "pygments_lexer": "ipython3",
   "version": "3.8.8"
  }
 },
 "nbformat": 4,
 "nbformat_minor": 5
}
