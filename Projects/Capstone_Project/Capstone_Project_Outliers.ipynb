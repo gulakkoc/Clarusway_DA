{
 "cells": [
  {
   "cell_type": "code",
   "execution_count": 1,
   "id": "35ca4a26",
   "metadata": {},
   "outputs": [],
   "source": [
    "import numpy as np\n",
    "import pandas as pd\n",
    "import seaborn as sns\n",
    "import matplotlib as plt\n",
    "import math as math"
   ]
  },
  {
   "cell_type": "code",
   "execution_count": 2,
   "id": "07cf35ca",
   "metadata": {},
   "outputs": [],
   "source": [
    "df = pd.read_csv('df1_no_null.csv')"
   ]
  },
  {
   "cell_type": "code",
   "execution_count": 5,
   "id": "ea411447",
   "metadata": {},
   "outputs": [
    {
     "data": {
      "text/plain": [
       "Body_Type              0\n",
       "Price                  0\n",
       "Km                     0\n",
       "kW                     0\n",
       "Condition              0\n",
       "Make                   0\n",
       "Model                  0\n",
       "Registration_Year      0\n",
       "Body_Color             0\n",
       "Paint_Type             0\n",
       "Upholstery             0\n",
       "Nr_of_Doors            0\n",
       "Nr_of_Seats            0\n",
       "Gearing_Type           0\n",
       "Displacement           0\n",
       "Cylinders              0\n",
       "Drive_Chain            0\n",
       "Fuel                   0\n",
       "Comfort_Convenience    0\n",
       "Entertainment_Media    0\n",
       "Extras                 0\n",
       "Safety_Security        0\n",
       "Gears                  0\n",
       "Combined_Cons          0\n",
       "dtype: int64"
      ]
     },
     "execution_count": 5,
     "metadata": {},
     "output_type": "execute_result"
    }
   ],
   "source": [
    "df.isnull().sum()"
   ]
  },
  {
   "cell_type": "code",
   "execution_count": 6,
   "id": "34b475f4",
   "metadata": {},
   "outputs": [],
   "source": [
    "df1 = df.copy()"
   ]
  },
  {
   "cell_type": "code",
   "execution_count": 7,
   "id": "c2e0692f",
   "metadata": {},
   "outputs": [],
   "source": [
    "df2 = df.copy()"
   ]
  },
  {
   "cell_type": "code",
   "execution_count": 8,
   "id": "6649b460",
   "metadata": {},
   "outputs": [
    {
     "name": "stdout",
     "output_type": "stream",
     "text": [
      "<class 'pandas.core.frame.DataFrame'>\n",
      "RangeIndex: 15735 entries, 0 to 15734\n",
      "Data columns (total 24 columns):\n",
      " #   Column               Non-Null Count  Dtype  \n",
      "---  ------               --------------  -----  \n",
      " 0   Body_Type            15735 non-null  object \n",
      " 1   Price                15735 non-null  int64  \n",
      " 2   Km                   15735 non-null  int64  \n",
      " 3   kW                   15735 non-null  float64\n",
      " 4   Condition            15735 non-null  object \n",
      " 5   Make                 15735 non-null  object \n",
      " 6   Model                15735 non-null  object \n",
      " 7   Registration_Year    15735 non-null  float64\n",
      " 8   Body_Color           15735 non-null  object \n",
      " 9   Paint_Type           15735 non-null  object \n",
      " 10  Upholstery           15735 non-null  object \n",
      " 11  Nr_of_Doors          15735 non-null  float64\n",
      " 12  Nr_of_Seats          15735 non-null  float64\n",
      " 13  Gearing_Type         15735 non-null  object \n",
      " 14  Displacement         15735 non-null  float64\n",
      " 15  Cylinders            15735 non-null  float64\n",
      " 16  Drive_Chain          15735 non-null  object \n",
      " 17  Fuel                 15735 non-null  object \n",
      " 18  Comfort_Convenience  15735 non-null  object \n",
      " 19  Entertainment_Media  15735 non-null  object \n",
      " 20  Extras               15735 non-null  object \n",
      " 21  Safety_Security      15735 non-null  object \n",
      " 22  Gears                15735 non-null  float64\n",
      " 23  Combined_Cons        15735 non-null  float64\n",
      "dtypes: float64(8), int64(2), object(14)\n",
      "memory usage: 2.9+ MB\n"
     ]
    }
   ],
   "source": [
    "df1.info()"
   ]
  },
  {
   "cell_type": "code",
   "execution_count": 10,
   "id": "c4e3c222",
   "metadata": {},
   "outputs": [],
   "source": [
    "df1.Registration_Year = pd.to_datetime(df[\"Registration_Year\"], format=\"%Y\")"
   ]
  },
  {
   "cell_type": "code",
   "execution_count": 11,
   "id": "1d3a6a6c",
   "metadata": {},
   "outputs": [
    {
     "name": "stdout",
     "output_type": "stream",
     "text": [
      "<class 'pandas.core.frame.DataFrame'>\n",
      "RangeIndex: 15735 entries, 0 to 15734\n",
      "Data columns (total 24 columns):\n",
      " #   Column               Non-Null Count  Dtype         \n",
      "---  ------               --------------  -----         \n",
      " 0   Body_Type            15735 non-null  object        \n",
      " 1   Price                15735 non-null  int64         \n",
      " 2   Km                   15735 non-null  int64         \n",
      " 3   kW                   15735 non-null  float64       \n",
      " 4   Condition            15735 non-null  object        \n",
      " 5   Make                 15735 non-null  object        \n",
      " 6   Model                15735 non-null  object        \n",
      " 7   Registration_Year    15735 non-null  datetime64[ns]\n",
      " 8   Body_Color           15735 non-null  object        \n",
      " 9   Paint_Type           15735 non-null  object        \n",
      " 10  Upholstery           15735 non-null  object        \n",
      " 11  Nr_of_Doors          15735 non-null  float64       \n",
      " 12  Nr_of_Seats          15735 non-null  float64       \n",
      " 13  Gearing_Type         15735 non-null  object        \n",
      " 14  Displacement         15735 non-null  float64       \n",
      " 15  Cylinders            15735 non-null  float64       \n",
      " 16  Drive_Chain          15735 non-null  object        \n",
      " 17  Fuel                 15735 non-null  object        \n",
      " 18  Comfort_Convenience  15735 non-null  object        \n",
      " 19  Entertainment_Media  15735 non-null  object        \n",
      " 20  Extras               15735 non-null  object        \n",
      " 21  Safety_Security      15735 non-null  object        \n",
      " 22  Gears                15735 non-null  float64       \n",
      " 23  Combined_Cons        15735 non-null  float64       \n",
      "dtypes: datetime64[ns](1), float64(7), int64(2), object(14)\n",
      "memory usage: 2.9+ MB\n"
     ]
    }
   ],
   "source": [
    "df1.info()"
   ]
  },
  {
   "cell_type": "code",
   "execution_count": 25,
   "id": "bc33cbc9",
   "metadata": {},
   "outputs": [],
   "source": [
    "price_outliers = df2.Price.sort_values().head(4).index"
   ]
  },
  {
   "cell_type": "code",
   "execution_count": 21,
   "id": "4244f13a",
   "metadata": {},
   "outputs": [],
   "source": [
    "df1.drop(price_outliers, axis = 0,inplace = True)"
   ]
  },
  {
   "cell_type": "code",
   "execution_count": 24,
   "id": "a22e64f0",
   "metadata": {},
   "outputs": [
    {
     "data": {
      "text/plain": [
       "8745    4950\n",
       "8743    4990\n",
       "8744    5250\n",
       "8742    5300\n",
       "Name: Price, dtype: int64"
      ]
     },
     "execution_count": 24,
     "metadata": {},
     "output_type": "execute_result"
    }
   ],
   "source": [
    "df1.Price.sort_values().head(4)"
   ]
  },
  {
   "cell_type": "code",
   "execution_count": 45,
   "id": "d9d73cfb",
   "metadata": {},
   "outputs": [],
   "source": [
    "my_models = df1.Model.unique().tolist()"
   ]
  },
  {
   "cell_type": "code",
   "execution_count": 49,
   "id": "4a1d500c",
   "metadata": {},
   "outputs": [
    {
     "name": "stdout",
     "output_type": "stream",
     "text": [
      "****************\n",
      "A1\n",
      "85.0     885\n",
      "70.0     790\n",
      "66.0     462\n",
      "92.0     172\n",
      "60.0     156\n",
      "71.0      56\n",
      "110.0     30\n",
      "141.0     16\n",
      "147.0     14\n",
      "67.0      12\n",
      "87.0       4\n",
      "93.0       3\n",
      "140.0      1\n",
      "86.0       1\n",
      "112.0      1\n",
      "Name: kW, dtype: int64\n",
      "****************\n",
      "A3\n",
      "85.0     1586\n",
      "81.0      785\n",
      "110.0     498\n",
      "92.0       93\n",
      "135.0      24\n",
      "294.0      18\n",
      "82.0       15\n",
      "96.0        8\n",
      "87.0        6\n",
      "228.0       2\n",
      "270.0       2\n",
      "137.0       1\n",
      "100.0       1\n",
      "112.0       1\n",
      "162.0       1\n",
      "86.0        1\n",
      "132.0       1\n",
      "9.0         1\n",
      "140.0       1\n",
      "150.0       1\n",
      "133.0       1\n",
      "Name: kW, dtype: int64\n",
      "****************\n",
      "Astra\n",
      "110.0    575\n",
      "81.0     571\n",
      "100.0    489\n",
      "77.0     318\n",
      "92.0     199\n",
      "66.0      74\n",
      "74.0      66\n",
      "147.0     65\n",
      "70.0      44\n",
      "85.0      21\n",
      "78.0      20\n",
      "103.0     14\n",
      "1.0        7\n",
      "101.0      7\n",
      "82.0       7\n",
      "118.0      6\n",
      "112.0      5\n",
      "60.0       4\n",
      "76.0       4\n",
      "80.0       3\n",
      "67.0       2\n",
      "88.0       2\n",
      "84.0       1\n",
      "149.0      1\n",
      "Name: kW, dtype: int64\n",
      "****************\n",
      "Corsa\n",
      "66.0    1231\n",
      "51.0     686\n",
      "55.0     166\n",
      "70.0      53\n",
      "52.0      22\n",
      "74.0      14\n",
      "1.0        7\n",
      "67.0       4\n",
      "71.0       3\n",
      "65.0       3\n",
      "44.0       1\n",
      "85.0       1\n",
      "63.0       1\n",
      "88.0       1\n",
      "40.0       1\n",
      "75.0       1\n",
      "Name: kW, dtype: int64\n",
      "****************\n",
      "Insignia\n",
      "100.0    819\n",
      "125.0    704\n",
      "121.0    390\n",
      "103.0    238\n",
      "147.0    159\n",
      "88.0      74\n",
      "101.0     40\n",
      "154.0     39\n",
      "122.0     34\n",
      "81.0      34\n",
      "104.0      8\n",
      "191.0      7\n",
      "120.0      7\n",
      "155.0      6\n",
      "184.0      5\n",
      "1.0        4\n",
      "92.0       2\n",
      "127.0      2\n",
      "89.0       2\n",
      "143.0      2\n",
      "123.0      1\n",
      "118.0      1\n",
      "195.0      1\n",
      "146.0      1\n",
      "239.0      1\n",
      "149.0      1\n",
      "Name: kW, dtype: int64\n",
      "****************\n",
      "Clio\n",
      "55.0     419\n",
      "66.0     331\n",
      "54.0     276\n",
      "56.0     269\n",
      "87.0     222\n",
      "88.0      98\n",
      "162.0     93\n",
      "164.0     27\n",
      "67.0      22\n",
      "147.0     17\n",
      "57.0      10\n",
      "90.0       4\n",
      "81.0       3\n",
      "53.0       2\n",
      "65.0       1\n",
      "40.0       1\n",
      "63.0       1\n",
      "4.0        1\n",
      "163.0      1\n",
      "74.0       1\n",
      "Name: kW, dtype: int64\n",
      "****************\n",
      "Duster\n",
      "77.0    33\n",
      "81.0     1\n",
      "Name: kW, dtype: int64\n",
      "****************\n",
      "Espace\n",
      "118.0    526\n",
      "165.0    189\n",
      "147.0    122\n",
      "96.0      62\n",
      "119.0     30\n",
      "146.0     17\n",
      "117.0      6\n",
      "98.0       3\n",
      "168.0      3\n",
      "167.0      2\n",
      "1.0        2\n",
      "149.0      1\n",
      "150.0      1\n",
      "120.0      1\n",
      "115.0      1\n",
      "Name: kW, dtype: int64\n"
     ]
    }
   ],
   "source": [
    "for i in my_models:\n",
    "    print(\"****************\")\n",
    "    print(i)\n",
    "    print(df1[(df1.Model == i)].kW.value_counts())"
   ]
  },
  {
   "cell_type": "markdown",
   "id": "8a7dd78e",
   "metadata": {},
   "source": [
    "#### Outliers for kW:\n",
    "\n",
    "- A3 has 9 (1 time)\n",
    "\n",
    "- Astra has 1 (7 times)\n",
    "\n",
    "- Corsa has 1 (7 times)\n",
    "\n",
    "- Insiginia has 1 (4 times)\n",
    "\n",
    "- Clio has 4 (1 time)\n",
    "\n",
    "- Escape has 1 (2 times)"
   ]
  },
  {
   "cell_type": "code",
   "execution_count": 52,
   "id": "9e08dfaf",
   "metadata": {},
   "outputs": [],
   "source": [
    "kW_less_10 = df1[df1.kW < 10].index"
   ]
  },
  {
   "cell_type": "code",
   "execution_count": 53,
   "id": "34baf374",
   "metadata": {},
   "outputs": [],
   "source": [
    "df1.drop(kW_less_10, axis = 0,inplace = True)"
   ]
  },
  {
   "cell_type": "code",
   "execution_count": 58,
   "id": "e0b18c35",
   "metadata": {},
   "outputs": [
    {
     "data": {
      "text/plain": [
       "13631    40.0\n",
       "8775     40.0\n",
       "8326     44.0\n",
       "10182    51.0\n",
       "9754     51.0\n",
       "Name: kW, dtype: float64"
      ]
     },
     "execution_count": 58,
     "metadata": {},
     "output_type": "execute_result"
    }
   ],
   "source": [
    "df1.kW.sort_values().head()"
   ]
  },
  {
   "cell_type": "markdown",
   "id": "1713f306",
   "metadata": {},
   "source": [
    "#### Outliers for Nr. of Doors"
   ]
  },
  {
   "cell_type": "code",
   "execution_count": 60,
   "id": "19e4e6cb",
   "metadata": {},
   "outputs": [
    {
     "data": {
      "text/plain": [
       "5.0    11590\n",
       "4.0     3071\n",
       "3.0      828\n",
       "2.0      218\n",
       "7.0        1\n",
       "1.0        1\n",
       "Name: Nr_of_Doors, dtype: int64"
      ]
     },
     "execution_count": 60,
     "metadata": {},
     "output_type": "execute_result"
    }
   ],
   "source": [
    "df1.Nr_of_Doors.value_counts()"
   ]
  },
  {
   "cell_type": "code",
   "execution_count": 65,
   "id": "3891baec",
   "metadata": {},
   "outputs": [],
   "source": [
    "one_door_index = df1[df1.Nr_of_Doors == 1].index"
   ]
  },
  {
   "cell_type": "code",
   "execution_count": 68,
   "id": "5a23416d",
   "metadata": {},
   "outputs": [],
   "source": [
    "seven_door_index = df1[df1.Nr_of_Doors == 7].index"
   ]
  },
  {
   "cell_type": "code",
   "execution_count": 69,
   "id": "1d4ec349",
   "metadata": {},
   "outputs": [],
   "source": [
    "df1.drop(one_door_index, axis = 0,inplace = True)\n",
    "df1.drop(seven_door_index, axis = 0,inplace = True)"
   ]
  },
  {
   "cell_type": "code",
   "execution_count": 70,
   "id": "9743530a",
   "metadata": {},
   "outputs": [
    {
     "data": {
      "text/plain": [
       "5.0    11590\n",
       "4.0     3071\n",
       "3.0      828\n",
       "2.0      218\n",
       "Name: Nr_of_Doors, dtype: int64"
      ]
     },
     "execution_count": 70,
     "metadata": {},
     "output_type": "execute_result"
    }
   ],
   "source": [
    "df1.Nr_of_Doors.value_counts()"
   ]
  },
  {
   "cell_type": "markdown",
   "id": "fd2e0c93",
   "metadata": {},
   "source": [
    "<br>"
   ]
  },
  {
   "cell_type": "markdown",
   "id": "d663a226",
   "metadata": {},
   "source": [
    "#### Nr. of Seats Outliers"
   ]
  },
  {
   "cell_type": "code",
   "execution_count": 71,
   "id": "72197721",
   "metadata": {},
   "outputs": [
    {
     "data": {
      "text/plain": [
       "5.0    14118\n",
       "4.0     1118\n",
       "7.0      354\n",
       "2.0      114\n",
       "6.0        2\n",
       "3.0        1\n",
       "Name: Nr_of_Seats, dtype: int64"
      ]
     },
     "execution_count": 71,
     "metadata": {},
     "output_type": "execute_result"
    }
   ],
   "source": [
    "df1.Nr_of_Seats.value_counts()"
   ]
  },
  {
   "cell_type": "code",
   "execution_count": 74,
   "id": "df55751d",
   "metadata": {},
   "outputs": [],
   "source": [
    "three_seats = df1[df1.Nr_of_Seats == 3].index"
   ]
  },
  {
   "cell_type": "code",
   "execution_count": 75,
   "id": "1b657515",
   "metadata": {},
   "outputs": [],
   "source": [
    "df1.drop(three_seats, axis = 0,inplace = True)"
   ]
  },
  {
   "cell_type": "code",
   "execution_count": 76,
   "id": "307e7d0f",
   "metadata": {},
   "outputs": [
    {
     "data": {
      "text/plain": [
       "5.0    14118\n",
       "4.0     1118\n",
       "7.0      354\n",
       "2.0      114\n",
       "6.0        2\n",
       "Name: Nr_of_Seats, dtype: int64"
      ]
     },
     "execution_count": 76,
     "metadata": {},
     "output_type": "execute_result"
    }
   ],
   "source": [
    "df1.Nr_of_Seats.value_counts()"
   ]
  },
  {
   "cell_type": "code",
   "execution_count": 79,
   "id": "1f8ad0ff",
   "metadata": {},
   "outputs": [],
   "source": [
    "six_seats = df1[df1.Nr_of_Seats == 6].index"
   ]
  },
  {
   "cell_type": "code",
   "execution_count": 80,
   "id": "ec3cfa2f",
   "metadata": {},
   "outputs": [],
   "source": [
    "df1.drop(six_seats, axis = 0,inplace = True)"
   ]
  },
  {
   "cell_type": "code",
   "execution_count": 81,
   "id": "8dfb3d3e",
   "metadata": {},
   "outputs": [
    {
     "data": {
      "text/plain": [
       "5.0    14118\n",
       "4.0     1118\n",
       "7.0      354\n",
       "2.0      114\n",
       "Name: Nr_of_Seats, dtype: int64"
      ]
     },
     "execution_count": 81,
     "metadata": {},
     "output_type": "execute_result"
    }
   ],
   "source": [
    "df1.Nr_of_Seats.value_counts()"
   ]
  },
  {
   "cell_type": "code",
   "execution_count": null,
   "id": "d59851b5",
   "metadata": {},
   "outputs": [],
   "source": []
  },
  {
   "cell_type": "code",
   "execution_count": null,
   "id": "c567bb3a",
   "metadata": {},
   "outputs": [],
   "source": []
  },
  {
   "cell_type": "code",
   "execution_count": null,
   "id": "8731b764",
   "metadata": {},
   "outputs": [],
   "source": []
  },
  {
   "cell_type": "code",
   "execution_count": null,
   "id": "ab198a46",
   "metadata": {},
   "outputs": [],
   "source": []
  },
  {
   "cell_type": "code",
   "execution_count": null,
   "id": "59fe1b56",
   "metadata": {},
   "outputs": [],
   "source": []
  },
  {
   "cell_type": "code",
   "execution_count": null,
   "id": "75666860",
   "metadata": {},
   "outputs": [],
   "source": []
  },
  {
   "cell_type": "code",
   "execution_count": null,
   "id": "50b1547f",
   "metadata": {},
   "outputs": [],
   "source": []
  },
  {
   "cell_type": "code",
   "execution_count": null,
   "id": "b7455a5e",
   "metadata": {},
   "outputs": [],
   "source": []
  },
  {
   "cell_type": "code",
   "execution_count": null,
   "id": "f64d8c5b",
   "metadata": {},
   "outputs": [],
   "source": []
  }
 ],
 "metadata": {
  "kernelspec": {
   "display_name": "Python 3",
   "language": "python",
   "name": "python3"
  },
  "language_info": {
   "codemirror_mode": {
    "name": "ipython",
    "version": 3
   },
   "file_extension": ".py",
   "mimetype": "text/x-python",
   "name": "python",
   "nbconvert_exporter": "python",
   "pygments_lexer": "ipython3",
   "version": "3.8.8"
  }
 },
 "nbformat": 4,
 "nbformat_minor": 5
}
