{
 "cells": [
  {
   "cell_type": "code",
   "execution_count": 1,
   "id": "521421d6",
   "metadata": {},
   "outputs": [],
   "source": [
    "import numpy as np\n",
    "import pandas as pd\n",
    "import seaborn as sns\n",
    "import matplotlib as plt\n",
    "import math as math"
   ]
  },
  {
   "cell_type": "code",
   "execution_count": 2,
   "id": "284155b3",
   "metadata": {},
   "outputs": [],
   "source": [
    "df = pd.read_csv('df1_no_null.csv')"
   ]
  },
  {
   "cell_type": "code",
   "execution_count": 5,
   "id": "c5cc27a7",
   "metadata": {},
   "outputs": [
    {
     "data": {
      "text/plain": [
       "Body_Type              0\n",
       "Price                  0\n",
       "Km                     0\n",
       "kW                     0\n",
       "Condition              0\n",
       "Make                   0\n",
       "Model                  0\n",
       "Registration_Year      0\n",
       "Body_Color             0\n",
       "Paint_Type             0\n",
       "Upholstery             0\n",
       "Nr_of_Doors            0\n",
       "Nr_of_Seats            0\n",
       "Gearing_Type           0\n",
       "Displacement           0\n",
       "Cylinders              0\n",
       "Drive_Chain            0\n",
       "Fuel                   0\n",
       "Comfort_Convenience    0\n",
       "Entertainment_Media    0\n",
       "Extras                 0\n",
       "Safety_Security        0\n",
       "Gears                  0\n",
       "Combined_Cons          0\n",
       "dtype: int64"
      ]
     },
     "execution_count": 5,
     "metadata": {},
     "output_type": "execute_result"
    }
   ],
   "source": [
    "df.isnull().sum()"
   ]
  },
  {
   "cell_type": "code",
   "execution_count": 6,
   "id": "696129ca",
   "metadata": {},
   "outputs": [],
   "source": [
    "df1 = df.copy()"
   ]
  },
  {
   "cell_type": "code",
   "execution_count": 7,
   "id": "efee5c37",
   "metadata": {},
   "outputs": [],
   "source": [
    "df2 = df.copy()"
   ]
  },
  {
   "cell_type": "code",
   "execution_count": 8,
   "id": "5d6c05db",
   "metadata": {},
   "outputs": [
    {
     "name": "stdout",
     "output_type": "stream",
     "text": [
      "<class 'pandas.core.frame.DataFrame'>\n",
      "RangeIndex: 15735 entries, 0 to 15734\n",
      "Data columns (total 24 columns):\n",
      " #   Column               Non-Null Count  Dtype  \n",
      "---  ------               --------------  -----  \n",
      " 0   Body_Type            15735 non-null  object \n",
      " 1   Price                15735 non-null  int64  \n",
      " 2   Km                   15735 non-null  int64  \n",
      " 3   kW                   15735 non-null  float64\n",
      " 4   Condition            15735 non-null  object \n",
      " 5   Make                 15735 non-null  object \n",
      " 6   Model                15735 non-null  object \n",
      " 7   Registration_Year    15735 non-null  float64\n",
      " 8   Body_Color           15735 non-null  object \n",
      " 9   Paint_Type           15735 non-null  object \n",
      " 10  Upholstery           15735 non-null  object \n",
      " 11  Nr_of_Doors          15735 non-null  float64\n",
      " 12  Nr_of_Seats          15735 non-null  float64\n",
      " 13  Gearing_Type         15735 non-null  object \n",
      " 14  Displacement         15735 non-null  float64\n",
      " 15  Cylinders            15735 non-null  float64\n",
      " 16  Drive_Chain          15735 non-null  object \n",
      " 17  Fuel                 15735 non-null  object \n",
      " 18  Comfort_Convenience  15735 non-null  object \n",
      " 19  Entertainment_Media  15735 non-null  object \n",
      " 20  Extras               15735 non-null  object \n",
      " 21  Safety_Security      15735 non-null  object \n",
      " 22  Gears                15735 non-null  float64\n",
      " 23  Combined_Cons        15735 non-null  float64\n",
      "dtypes: float64(8), int64(2), object(14)\n",
      "memory usage: 2.9+ MB\n"
     ]
    }
   ],
   "source": [
    "df1.info()"
   ]
  },
  {
   "cell_type": "code",
   "execution_count": 10,
   "id": "559c1bcb",
   "metadata": {},
   "outputs": [],
   "source": [
    "df1.Registration_Year = pd.to_datetime(df[\"Registration_Year\"], format=\"%Y\")"
   ]
  },
  {
   "cell_type": "code",
   "execution_count": 11,
   "id": "d3ec953a",
   "metadata": {},
   "outputs": [
    {
     "name": "stdout",
     "output_type": "stream",
     "text": [
      "<class 'pandas.core.frame.DataFrame'>\n",
      "RangeIndex: 15735 entries, 0 to 15734\n",
      "Data columns (total 24 columns):\n",
      " #   Column               Non-Null Count  Dtype         \n",
      "---  ------               --------------  -----         \n",
      " 0   Body_Type            15735 non-null  object        \n",
      " 1   Price                15735 non-null  int64         \n",
      " 2   Km                   15735 non-null  int64         \n",
      " 3   kW                   15735 non-null  float64       \n",
      " 4   Condition            15735 non-null  object        \n",
      " 5   Make                 15735 non-null  object        \n",
      " 6   Model                15735 non-null  object        \n",
      " 7   Registration_Year    15735 non-null  datetime64[ns]\n",
      " 8   Body_Color           15735 non-null  object        \n",
      " 9   Paint_Type           15735 non-null  object        \n",
      " 10  Upholstery           15735 non-null  object        \n",
      " 11  Nr_of_Doors          15735 non-null  float64       \n",
      " 12  Nr_of_Seats          15735 non-null  float64       \n",
      " 13  Gearing_Type         15735 non-null  object        \n",
      " 14  Displacement         15735 non-null  float64       \n",
      " 15  Cylinders            15735 non-null  float64       \n",
      " 16  Drive_Chain          15735 non-null  object        \n",
      " 17  Fuel                 15735 non-null  object        \n",
      " 18  Comfort_Convenience  15735 non-null  object        \n",
      " 19  Entertainment_Media  15735 non-null  object        \n",
      " 20  Extras               15735 non-null  object        \n",
      " 21  Safety_Security      15735 non-null  object        \n",
      " 22  Gears                15735 non-null  float64       \n",
      " 23  Combined_Cons        15735 non-null  float64       \n",
      "dtypes: datetime64[ns](1), float64(7), int64(2), object(14)\n",
      "memory usage: 2.9+ MB\n"
     ]
    }
   ],
   "source": [
    "df1.info()"
   ]
  },
  {
   "cell_type": "code",
   "execution_count": 25,
   "id": "7f958e2d",
   "metadata": {},
   "outputs": [],
   "source": [
    "price_outliers = df2.Price.sort_values().head(4).index"
   ]
  },
  {
   "cell_type": "code",
   "execution_count": 21,
   "id": "37f4710c",
   "metadata": {},
   "outputs": [],
   "source": [
    "df1.drop(price_outliers, axis = 0,inplace = True)"
   ]
  },
  {
   "cell_type": "code",
   "execution_count": 24,
   "id": "d1813b96",
   "metadata": {},
   "outputs": [
    {
     "data": {
      "text/plain": [
       "8745    4950\n",
       "8743    4990\n",
       "8744    5250\n",
       "8742    5300\n",
       "Name: Price, dtype: int64"
      ]
     },
     "execution_count": 24,
     "metadata": {},
     "output_type": "execute_result"
    }
   ],
   "source": [
    "df1.Price.sort_values().head(4)"
   ]
  },
  {
   "cell_type": "code",
   "execution_count": 45,
   "id": "f9370d19",
   "metadata": {},
   "outputs": [],
   "source": [
    "my_models = df1.Model.unique().tolist()"
   ]
  },
  {
   "cell_type": "code",
   "execution_count": 49,
   "id": "6ea78579",
   "metadata": {},
   "outputs": [
    {
     "name": "stdout",
     "output_type": "stream",
     "text": [
      "****************\n",
      "A1\n",
      "85.0     885\n",
      "70.0     790\n",
      "66.0     462\n",
      "92.0     172\n",
      "60.0     156\n",
      "71.0      56\n",
      "110.0     30\n",
      "141.0     16\n",
      "147.0     14\n",
      "67.0      12\n",
      "87.0       4\n",
      "93.0       3\n",
      "140.0      1\n",
      "86.0       1\n",
      "112.0      1\n",
      "Name: kW, dtype: int64\n",
      "****************\n",
      "A3\n",
      "85.0     1586\n",
      "81.0      785\n",
      "110.0     498\n",
      "92.0       93\n",
      "135.0      24\n",
      "294.0      18\n",
      "82.0       15\n",
      "96.0        8\n",
      "87.0        6\n",
      "228.0       2\n",
      "270.0       2\n",
      "137.0       1\n",
      "100.0       1\n",
      "112.0       1\n",
      "162.0       1\n",
      "86.0        1\n",
      "132.0       1\n",
      "9.0         1\n",
      "140.0       1\n",
      "150.0       1\n",
      "133.0       1\n",
      "Name: kW, dtype: int64\n",
      "****************\n",
      "Astra\n",
      "110.0    575\n",
      "81.0     571\n",
      "100.0    489\n",
      "77.0     318\n",
      "92.0     199\n",
      "66.0      74\n",
      "74.0      66\n",
      "147.0     65\n",
      "70.0      44\n",
      "85.0      21\n",
      "78.0      20\n",
      "103.0     14\n",
      "1.0        7\n",
      "101.0      7\n",
      "82.0       7\n",
      "118.0      6\n",
      "112.0      5\n",
      "60.0       4\n",
      "76.0       4\n",
      "80.0       3\n",
      "67.0       2\n",
      "88.0       2\n",
      "84.0       1\n",
      "149.0      1\n",
      "Name: kW, dtype: int64\n",
      "****************\n",
      "Corsa\n",
      "66.0    1231\n",
      "51.0     686\n",
      "55.0     166\n",
      "70.0      53\n",
      "52.0      22\n",
      "74.0      14\n",
      "1.0        7\n",
      "67.0       4\n",
      "71.0       3\n",
      "65.0       3\n",
      "44.0       1\n",
      "85.0       1\n",
      "63.0       1\n",
      "88.0       1\n",
      "40.0       1\n",
      "75.0       1\n",
      "Name: kW, dtype: int64\n",
      "****************\n",
      "Insignia\n",
      "100.0    819\n",
      "125.0    704\n",
      "121.0    390\n",
      "103.0    238\n",
      "147.0    159\n",
      "88.0      74\n",
      "101.0     40\n",
      "154.0     39\n",
      "122.0     34\n",
      "81.0      34\n",
      "104.0      8\n",
      "191.0      7\n",
      "120.0      7\n",
      "155.0      6\n",
      "184.0      5\n",
      "1.0        4\n",
      "92.0       2\n",
      "127.0      2\n",
      "89.0       2\n",
      "143.0      2\n",
      "123.0      1\n",
      "118.0      1\n",
      "195.0      1\n",
      "146.0      1\n",
      "239.0      1\n",
      "149.0      1\n",
      "Name: kW, dtype: int64\n",
      "****************\n",
      "Clio\n",
      "55.0     419\n",
      "66.0     331\n",
      "54.0     276\n",
      "56.0     269\n",
      "87.0     222\n",
      "88.0      98\n",
      "162.0     93\n",
      "164.0     27\n",
      "67.0      22\n",
      "147.0     17\n",
      "57.0      10\n",
      "90.0       4\n",
      "81.0       3\n",
      "53.0       2\n",
      "65.0       1\n",
      "40.0       1\n",
      "63.0       1\n",
      "4.0        1\n",
      "163.0      1\n",
      "74.0       1\n",
      "Name: kW, dtype: int64\n",
      "****************\n",
      "Duster\n",
      "77.0    33\n",
      "81.0     1\n",
      "Name: kW, dtype: int64\n",
      "****************\n",
      "Espace\n",
      "118.0    526\n",
      "165.0    189\n",
      "147.0    122\n",
      "96.0      62\n",
      "119.0     30\n",
      "146.0     17\n",
      "117.0      6\n",
      "98.0       3\n",
      "168.0      3\n",
      "167.0      2\n",
      "1.0        2\n",
      "149.0      1\n",
      "150.0      1\n",
      "120.0      1\n",
      "115.0      1\n",
      "Name: kW, dtype: int64\n"
     ]
    }
   ],
   "source": [
    "for i in my_models:\n",
    "    print(\"****************\")\n",
    "    print(i)\n",
    "    print(df1[(df1.Model == i)].kW.value_counts())"
   ]
  },
  {
   "cell_type": "markdown",
   "id": "4723c235",
   "metadata": {},
   "source": [
    "#### Outliers for kW:\n",
    "\n",
    "- A3 has 9 (1 time)\n",
    "\n",
    "- Astra has 1 (7 times)\n",
    "\n",
    "- Corsa has 1 (7 times)\n",
    "\n",
    "- Insiginia has 1 (4 times)\n",
    "\n",
    "- Clio has 4 (1 time)\n",
    "\n",
    "- Escape has 1 (2 times)"
   ]
  },
  {
   "cell_type": "code",
   "execution_count": 52,
   "id": "4d76d191",
   "metadata": {},
   "outputs": [],
   "source": [
    "kW_less_10 = df1[df1.kW < 10].index"
   ]
  },
  {
   "cell_type": "code",
   "execution_count": 53,
   "id": "9930641a",
   "metadata": {},
   "outputs": [],
   "source": [
    "df1.drop(kW_less_10, axis = 0,inplace = True)"
   ]
  },
  {
   "cell_type": "code",
   "execution_count": 58,
   "id": "d353aea3",
   "metadata": {},
   "outputs": [
    {
     "data": {
      "text/plain": [
       "13631    40.0\n",
       "8775     40.0\n",
       "8326     44.0\n",
       "10182    51.0\n",
       "9754     51.0\n",
       "Name: kW, dtype: float64"
      ]
     },
     "execution_count": 58,
     "metadata": {},
     "output_type": "execute_result"
    }
   ],
   "source": [
    "df1.kW.sort_values().head()"
   ]
  },
  {
   "cell_type": "markdown",
   "id": "11d9e767",
   "metadata": {},
   "source": [
    "#### Outliers for Nr. of Doors"
   ]
  },
  {
   "cell_type": "code",
   "execution_count": 60,
   "id": "7227c212",
   "metadata": {},
   "outputs": [
    {
     "data": {
      "text/plain": [
       "5.0    11590\n",
       "4.0     3071\n",
       "3.0      828\n",
       "2.0      218\n",
       "7.0        1\n",
       "1.0        1\n",
       "Name: Nr_of_Doors, dtype: int64"
      ]
     },
     "execution_count": 60,
     "metadata": {},
     "output_type": "execute_result"
    }
   ],
   "source": [
    "df1.Nr_of_Doors.value_counts()"
   ]
  },
  {
   "cell_type": "code",
   "execution_count": 65,
   "id": "ec59abb1",
   "metadata": {},
   "outputs": [],
   "source": [
    "one_door_index = df1[df1.Nr_of_Doors == 1].index"
   ]
  },
  {
   "cell_type": "code",
   "execution_count": 68,
   "id": "c10cd96b",
   "metadata": {},
   "outputs": [],
   "source": [
    "seven_door_index = df1[df1.Nr_of_Doors == 7].index"
   ]
  },
  {
   "cell_type": "code",
   "execution_count": 69,
   "id": "d737925a",
   "metadata": {},
   "outputs": [],
   "source": [
    "df1.drop(one_door_index, axis = 0,inplace = True)\n",
    "df1.drop(seven_door_index, axis = 0,inplace = True)"
   ]
  },
  {
   "cell_type": "code",
   "execution_count": 70,
   "id": "a5b09765",
   "metadata": {},
   "outputs": [
    {
     "data": {
      "text/plain": [
       "5.0    11590\n",
       "4.0     3071\n",
       "3.0      828\n",
       "2.0      218\n",
       "Name: Nr_of_Doors, dtype: int64"
      ]
     },
     "execution_count": 70,
     "metadata": {},
     "output_type": "execute_result"
    }
   ],
   "source": [
    "df1.Nr_of_Doors.value_counts()"
   ]
  },
  {
   "cell_type": "markdown",
   "id": "7763e989",
   "metadata": {},
   "source": [
    "<br>"
   ]
  },
  {
   "cell_type": "markdown",
   "id": "575c2030",
   "metadata": {},
   "source": [
    "#### Nr. of Seats Outliers"
   ]
  },
  {
   "cell_type": "code",
   "execution_count": 71,
   "id": "2a5d3ea4",
   "metadata": {},
   "outputs": [
    {
     "data": {
      "text/plain": [
       "5.0    14118\n",
       "4.0     1118\n",
       "7.0      354\n",
       "2.0      114\n",
       "6.0        2\n",
       "3.0        1\n",
       "Name: Nr_of_Seats, dtype: int64"
      ]
     },
     "execution_count": 71,
     "metadata": {},
     "output_type": "execute_result"
    }
   ],
   "source": [
    "df1.Nr_of_Seats.value_counts()"
   ]
  },
  {
   "cell_type": "code",
   "execution_count": 74,
   "id": "5b97d8d4",
   "metadata": {},
   "outputs": [],
   "source": [
    "three_seats = df1[df1.Nr_of_Seats == 3].index"
   ]
  },
  {
   "cell_type": "code",
   "execution_count": 75,
   "id": "8fd91450",
   "metadata": {},
   "outputs": [],
   "source": [
    "df1.drop(three_seats, axis = 0,inplace = True)"
   ]
  },
  {
   "cell_type": "code",
   "execution_count": 76,
   "id": "6e95e552",
   "metadata": {},
   "outputs": [
    {
     "data": {
      "text/plain": [
       "5.0    14118\n",
       "4.0     1118\n",
       "7.0      354\n",
       "2.0      114\n",
       "6.0        2\n",
       "Name: Nr_of_Seats, dtype: int64"
      ]
     },
     "execution_count": 76,
     "metadata": {},
     "output_type": "execute_result"
    }
   ],
   "source": [
    "df1.Nr_of_Seats.value_counts()"
   ]
  },
  {
   "cell_type": "code",
   "execution_count": 79,
   "id": "ef37e829",
   "metadata": {},
   "outputs": [],
   "source": [
    "six_seats = df1[df1.Nr_of_Seats == 6].index"
   ]
  },
  {
   "cell_type": "code",
   "execution_count": 80,
   "id": "dd8ba802",
   "metadata": {},
   "outputs": [],
   "source": [
    "df1.drop(six_seats, axis = 0,inplace = True)"
   ]
  },
  {
   "cell_type": "code",
   "execution_count": 81,
   "id": "d659ad66",
   "metadata": {},
   "outputs": [
    {
     "data": {
      "text/plain": [
       "5.0    14118\n",
       "4.0     1118\n",
       "7.0      354\n",
       "2.0      114\n",
       "Name: Nr_of_Seats, dtype: int64"
      ]
     },
     "execution_count": 81,
     "metadata": {},
     "output_type": "execute_result"
    }
   ],
   "source": [
    "df1.Nr_of_Seats.value_counts()"
   ]
  },
  {
   "cell_type": "markdown",
   "id": "cf023514",
   "metadata": {},
   "source": [
    "<br>"
   ]
  },
  {
   "cell_type": "code",
   "execution_count": 84,
   "id": "462722fa",
   "metadata": {},
   "outputs": [],
   "source": [
    "df2 = df1.copy()"
   ]
  },
  {
   "cell_type": "markdown",
   "id": "72461e31",
   "metadata": {},
   "source": [
    "#### Displacement Outliers"
   ]
  },
  {
   "cell_type": "code",
   "execution_count": 93,
   "id": "e6a11cb6",
   "metadata": {},
   "outputs": [],
   "source": [
    "min_displacement_outliers = df1[df1.Displacement < 600].index"
   ]
  },
  {
   "cell_type": "code",
   "execution_count": 95,
   "id": "d66d591b",
   "metadata": {},
   "outputs": [],
   "source": [
    "def fill_with_mode(a):\n",
    "    column_name = a\n",
    "    null_models = list(df1[df1[column_name]<600].Model.unique())\n",
    "    for i in null_models:\n",
    "        null_model_indexes = df1[(df1.Model == i) & (df1[column_name]<600)][column_name].index\n",
    "        my_mode = list(df1[(df1.Model == i)][column_name].mode())\n",
    "        if my_mode != []:\n",
    "            df1[column_name].loc[null_model_indexes]= (my_mode[0])\n",
    "\n",
    "fill_with_mode('Displacement')"
   ]
  },
  {
   "cell_type": "code",
   "execution_count": 98,
   "id": "6455ddc1",
   "metadata": {},
   "outputs": [
    {
     "data": {
      "text/plain": [
       "Int64Index([ 7735,  7736,  7737,  7738,  8049, 10100, 10456, 12377, 12393,\n",
       "            12444, 12493, 12637, 12655, 12656, 12669, 12672, 12676, 12682,\n",
       "            12684, 12686, 12701, 12720, 12733, 12734, 13776, 13784, 14067,\n",
       "            14150, 14176, 14177, 14181, 14182, 14183, 14184, 14186, 14187,\n",
       "            14188, 14189, 14190, 15403, 15404, 15405, 15406, 15407, 15408],\n",
       "           dtype='int64')"
      ]
     },
     "execution_count": 98,
     "metadata": {},
     "output_type": "execute_result"
    }
   ],
   "source": [
    "min_displacement_outliers"
   ]
  },
  {
   "cell_type": "code",
   "execution_count": 99,
   "id": "7d161fa9",
   "metadata": {},
   "outputs": [
    {
     "data": {
      "text/plain": [
       "1598.0"
      ]
     },
     "execution_count": 99,
     "metadata": {},
     "output_type": "execute_result"
    }
   ],
   "source": [
    "df1.Displacement.loc[7735]"
   ]
  },
  {
   "cell_type": "code",
   "execution_count": 107,
   "id": "a2a92aa5",
   "metadata": {},
   "outputs": [
    {
     "data": {
      "text/plain": [
       "3584      2480.0\n",
       "3596      2480.0\n",
       "10668     2967.0\n",
       "7107     15898.0\n",
       "10829    16000.0\n",
       "Name: Displacement, dtype: float64"
      ]
     },
     "execution_count": 107,
     "metadata": {},
     "output_type": "execute_result"
    }
   ],
   "source": [
    "df1.Displacement.sort_values().tail(5)"
   ]
  },
  {
   "cell_type": "code",
   "execution_count": 109,
   "id": "bbb6da1b",
   "metadata": {},
   "outputs": [],
   "source": [
    "def fill_with_mode(a):\n",
    "    column_name = a\n",
    "    null_models = list(df1[df1[column_name]>6000].Model.unique())\n",
    "    for i in null_models:\n",
    "        null_model_indexes = df1[(df1.Model == i) & (df1[column_name]>6000)][column_name].index\n",
    "        my_mode = list(df1[(df1.Model == i)][column_name].mode())\n",
    "        if my_mode != []:\n",
    "            df1[column_name].loc[null_model_indexes]= (my_mode[0])\n",
    "\n",
    "fill_with_mode('Displacement')"
   ]
  },
  {
   "cell_type": "code",
   "execution_count": 110,
   "id": "0ea264dc",
   "metadata": {},
   "outputs": [
    {
     "data": {
      "text/plain": [
       "1598.0"
      ]
     },
     "execution_count": 110,
     "metadata": {},
     "output_type": "execute_result"
    }
   ],
   "source": [
    "df1.Displacement.loc[10829]"
   ]
  },
  {
   "cell_type": "markdown",
   "id": "8a64562f",
   "metadata": {},
   "source": [
    "#### Cylinders Outliers"
   ]
  },
  {
   "cell_type": "code",
   "execution_count": 112,
   "id": "37e0f254",
   "metadata": {},
   "outputs": [
    {
     "data": {
      "text/plain": [
       "4.0    12739\n",
       "3.0     2935\n",
       "5.0       22\n",
       "6.0        3\n",
       "8.0        2\n",
       "2.0        2\n",
       "1.0        1\n",
       "Name: Cylinders, dtype: int64"
      ]
     },
     "execution_count": 112,
     "metadata": {},
     "output_type": "execute_result"
    }
   ],
   "source": [
    "df1.Cylinders.value_counts()"
   ]
  },
  {
   "cell_type": "code",
   "execution_count": 121,
   "id": "2a6f8d8a",
   "metadata": {},
   "outputs": [],
   "source": [
    "drop_cylinders_index = df1[(df1.Cylinders == 8) | (df1.Cylinders == 2) | (df1.Cylinders == 1)].index"
   ]
  },
  {
   "cell_type": "code",
   "execution_count": 122,
   "id": "25bdd28c",
   "metadata": {},
   "outputs": [],
   "source": [
    "df1.drop(drop_cylinders_index, axis = 0,inplace = True)"
   ]
  },
  {
   "cell_type": "code",
   "execution_count": 124,
   "id": "40bb4bc5",
   "metadata": {},
   "outputs": [
    {
     "data": {
      "text/plain": [
       "4.0    12739\n",
       "3.0     2935\n",
       "5.0       22\n",
       "6.0        3\n",
       "Name: Cylinders, dtype: int64"
      ]
     },
     "execution_count": 124,
     "metadata": {},
     "output_type": "execute_result"
    }
   ],
   "source": [
    "df1.Cylinders.value_counts()"
   ]
  },
  {
   "cell_type": "code",
   "execution_count": 125,
   "id": "70459dd0",
   "metadata": {},
   "outputs": [
    {
     "data": {
      "text/plain": [
       "0        5.0\n",
       "1        7.0\n",
       "2        5.0\n",
       "3        6.0\n",
       "4        5.0\n",
       "        ... \n",
       "15730    6.0\n",
       "15731    6.0\n",
       "15732    7.0\n",
       "15733    6.0\n",
       "15734    6.0\n",
       "Name: Gears, Length: 15699, dtype: float64"
      ]
     },
     "execution_count": 125,
     "metadata": {},
     "output_type": "execute_result"
    }
   ],
   "source": [
    "df1.Gears"
   ]
  },
  {
   "cell_type": "code",
   "execution_count": 129,
   "id": "97cfc3fb",
   "metadata": {},
   "outputs": [
    {
     "data": {
      "text/plain": [
       "6.0    4045\n",
       "7.0    1592\n",
       "5.0    1310\n",
       "8.0     218\n",
       "9.0       6\n",
       "4.0       2\n",
       "3.0       2\n",
       "1.0       1\n",
       "Name: Gears, dtype: int64"
      ]
     },
     "execution_count": 129,
     "metadata": {},
     "output_type": "execute_result"
    }
   ],
   "source": [
    "df1[(df1.Gearing_Type == 'Automatic')].Gears.value_counts()"
   ]
  },
  {
   "cell_type": "code",
   "execution_count": 130,
   "id": "d85c2870",
   "metadata": {},
   "outputs": [
    {
     "data": {
      "text/html": [
       "<div>\n",
       "<style scoped>\n",
       "    .dataframe tbody tr th:only-of-type {\n",
       "        vertical-align: middle;\n",
       "    }\n",
       "\n",
       "    .dataframe tbody tr th {\n",
       "        vertical-align: top;\n",
       "    }\n",
       "\n",
       "    .dataframe thead th {\n",
       "        text-align: right;\n",
       "    }\n",
       "</style>\n",
       "<table border=\"1\" class=\"dataframe\">\n",
       "  <thead>\n",
       "    <tr style=\"text-align: right;\">\n",
       "      <th></th>\n",
       "      <th>Body_Type</th>\n",
       "      <th>Price</th>\n",
       "      <th>Km</th>\n",
       "      <th>kW</th>\n",
       "      <th>Condition</th>\n",
       "      <th>Make</th>\n",
       "      <th>Model</th>\n",
       "      <th>Registration_Year</th>\n",
       "      <th>Body_Color</th>\n",
       "      <th>Paint_Type</th>\n",
       "      <th>...</th>\n",
       "      <th>Displacement</th>\n",
       "      <th>Cylinders</th>\n",
       "      <th>Drive_Chain</th>\n",
       "      <th>Fuel</th>\n",
       "      <th>Comfort_Convenience</th>\n",
       "      <th>Entertainment_Media</th>\n",
       "      <th>Extras</th>\n",
       "      <th>Safety_Security</th>\n",
       "      <th>Gears</th>\n",
       "      <th>Combined_Cons</th>\n",
       "    </tr>\n",
       "  </thead>\n",
       "  <tbody>\n",
       "    <tr>\n",
       "      <th>15641</th>\n",
       "      <td>Van</td>\n",
       "      <td>50950</td>\n",
       "      <td>11</td>\n",
       "      <td>165.0</td>\n",
       "      <td>New</td>\n",
       "      <td>Renault</td>\n",
       "      <td>Espace</td>\n",
       "      <td>2019-01-01</td>\n",
       "      <td>Grey</td>\n",
       "      <td>Metallic</td>\n",
       "      <td>...</td>\n",
       "      <td>1798.0</td>\n",
       "      <td>4.0</td>\n",
       "      <td>front</td>\n",
       "      <td>Gasoline</td>\n",
       "      <td>Air conditioning,Armrest,Automatic climate con...</td>\n",
       "      <td>Digital radio,Radio</td>\n",
       "      <td>Alloy wheels,Voice Control</td>\n",
       "      <td>ABS,Daytime running lights,Driver-side airbag,...</td>\n",
       "      <td>4.0</td>\n",
       "      <td>7.6</td>\n",
       "    </tr>\n",
       "    <tr>\n",
       "      <th>15642</th>\n",
       "      <td>Van</td>\n",
       "      <td>50950</td>\n",
       "      <td>11</td>\n",
       "      <td>165.0</td>\n",
       "      <td>New</td>\n",
       "      <td>Renault</td>\n",
       "      <td>Espace</td>\n",
       "      <td>2019-01-01</td>\n",
       "      <td>Grey</td>\n",
       "      <td>Metallic</td>\n",
       "      <td>...</td>\n",
       "      <td>1798.0</td>\n",
       "      <td>4.0</td>\n",
       "      <td>front</td>\n",
       "      <td>Gasoline</td>\n",
       "      <td>Air conditioning,Armrest,Automatic climate con...</td>\n",
       "      <td>Digital radio,Radio</td>\n",
       "      <td>Alloy wheels,Voice Control</td>\n",
       "      <td>ABS,Daytime running lights,Driver-side airbag,...</td>\n",
       "      <td>4.0</td>\n",
       "      <td>7.6</td>\n",
       "    </tr>\n",
       "  </tbody>\n",
       "</table>\n",
       "<p>2 rows × 24 columns</p>\n",
       "</div>"
      ],
      "text/plain": [
       "      Body_Type  Price  Km     kW Condition     Make   Model  \\\n",
       "15641       Van  50950  11  165.0       New  Renault  Espace   \n",
       "15642       Van  50950  11  165.0       New  Renault  Espace   \n",
       "\n",
       "      Registration_Year Body_Color Paint_Type  ... Displacement  Cylinders  \\\n",
       "15641        2019-01-01       Grey   Metallic  ...       1798.0        4.0   \n",
       "15642        2019-01-01       Grey   Metallic  ...       1798.0        4.0   \n",
       "\n",
       "       Drive_Chain      Fuel  \\\n",
       "15641        front  Gasoline   \n",
       "15642        front  Gasoline   \n",
       "\n",
       "                                     Comfort_Convenience  Entertainment_Media  \\\n",
       "15641  Air conditioning,Armrest,Automatic climate con...  Digital radio,Radio   \n",
       "15642  Air conditioning,Armrest,Automatic climate con...  Digital radio,Radio   \n",
       "\n",
       "                           Extras  \\\n",
       "15641  Alloy wheels,Voice Control   \n",
       "15642  Alloy wheels,Voice Control   \n",
       "\n",
       "                                         Safety_Security Gears Combined_Cons  \n",
       "15641  ABS,Daytime running lights,Driver-side airbag,...   4.0           7.6  \n",
       "15642  ABS,Daytime running lights,Driver-side airbag,...   4.0           7.6  \n",
       "\n",
       "[2 rows x 24 columns]"
      ]
     },
     "execution_count": 130,
     "metadata": {},
     "output_type": "execute_result"
    }
   ],
   "source": [
    "df1[df1.Gears == 4]"
   ]
  },
  {
   "cell_type": "code",
   "execution_count": null,
   "id": "751422ea",
   "metadata": {},
   "outputs": [],
   "source": []
  },
  {
   "cell_type": "code",
   "execution_count": null,
   "id": "9f5d6f19",
   "metadata": {},
   "outputs": [],
   "source": []
  },
  {
   "cell_type": "code",
   "execution_count": null,
   "id": "f5a75d58",
   "metadata": {},
   "outputs": [],
   "source": []
  },
  {
   "cell_type": "code",
   "execution_count": null,
   "id": "dda06c44",
   "metadata": {},
   "outputs": [],
   "source": []
  },
  {
   "cell_type": "code",
   "execution_count": null,
   "id": "35340119",
   "metadata": {},
   "outputs": [],
   "source": []
  },
  {
   "cell_type": "code",
   "execution_count": null,
   "id": "f29b4e29",
   "metadata": {},
   "outputs": [],
   "source": []
  }
 ],
 "metadata": {
  "kernelspec": {
   "display_name": "Python 3",
   "language": "python",
   "name": "python3"
  },
  "language_info": {
   "codemirror_mode": {
    "name": "ipython",
    "version": 3
   },
   "file_extension": ".py",
   "mimetype": "text/x-python",
   "name": "python",
   "nbconvert_exporter": "python",
   "pygments_lexer": "ipython3",
   "version": "3.8.8"
  }
 },
 "nbformat": 4,
 "nbformat_minor": 5
}
